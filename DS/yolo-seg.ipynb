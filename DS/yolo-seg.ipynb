{
 "cells": [
  {
   "cell_type": "code",
   "execution_count": 1,
   "id": "9f30a6f8",
   "metadata": {},
   "outputs": [
    {
     "name": "stdout",
     "output_type": "stream",
     "text": [
      "Python: 3.11.8\n",
      "Torch: 2.2.2+cu121\n",
      "CUDA available: True\n",
      "GPU: NVIDIA GeForce RTX 4070\n"
     ]
    }
   ],
   "source": [
    "import torch, platform\n",
    "print(\"Python:\", platform.python_version())\n",
    "print(\"Torch:\", torch.__version__)\n",
    "print(\"CUDA available:\", torch.cuda.is_available())\n",
    "if torch.cuda.is_available():\n",
    "    print(\"GPU:\", torch.cuda.get_device_name(0))"
   ]
  },
  {
   "cell_type": "code",
   "execution_count": 2,
   "id": "3d381212",
   "metadata": {},
   "outputs": [
    {
     "name": "stdout",
     "output_type": "stream",
     "text": [
      "Ultralytics 8.3.203  Python-3.11.8 torch-2.2.2+cu121 CUDA:0 (NVIDIA GeForce RTX 4070, 12282MiB)\n",
      "Setup complete  (12 CPUs, 31.1 GB RAM, 319.0/465.7 GB disk)\n"
     ]
    }
   ],
   "source": [
    "from IPython import display\n",
    "display.clear_output()\n",
    "\n",
    "import ultralytics\n",
    "ultralytics.checks()\n",
    "\n",
    "from ultralytics import YOLO\n",
    "\n",
    "from IPython.display import display, Image"
   ]
  },
  {
   "cell_type": "code",
   "execution_count": 3,
   "id": "63ed4ad1",
   "metadata": {},
   "outputs": [],
   "source": [
    "import random\n",
    "import numpy as np\n",
    "\n",
    "def set_random_seed(seed):\n",
    "    random.seed(seed)\n",
    "    np.random.seed(seed)\n",
    "    torch.manual_seed(seed)\n",
    "    torch.cuda.manual_seed_all(seed)\n",
    "    torch.backends.cudnn.benchmark = False\n",
    "    torch.backends.cudnn.deterministic = True\n",
    " \n",
    "\n",
    "set_random_seed(0)"
   ]
  },
  {
   "cell_type": "code",
   "execution_count": null,
   "id": "fc21bf66",
   "metadata": {},
   "outputs": [
    {
     "name": "stdout",
     "output_type": "stream",
     "text": [
      "Downloading https://github.com/ultralytics/assets/releases/download/v8.2.0/yolov8m-seg.pt to 'yolov8m-seg.pt'...\n"
     ]
    },
    {
     "name": "stderr",
     "output_type": "stream",
     "text": [
      "100%|██████████| 52.4M/52.4M [00:05<00:00, 9.95MB/s]\n"
     ]
    },
    {
     "name": "stdout",
     "output_type": "stream",
     "text": [
      "New https://pypi.org/project/ultralytics/8.3.203 available  Update with 'pip install -U ultralytics'\n",
      "Ultralytics YOLOv8.2.21  Python-3.11.8 torch-2.2.2+cu121 CUDA:0 (NVIDIA GeForce RTX 4070, 12282MiB)\n",
      "\u001b[34m\u001b[1mengine\\trainer: \u001b[0mtask=segment, mode=train, model=yolov8m-seg.pt, data=G:/silexcore/aeroflot/DS/dataset-seg/data.yaml, epochs=10, time=None, patience=100, batch=16, imgsz=640, save=True, save_period=-1, cache=False, device=None, workers=8, project=None, name=train, exist_ok=False, pretrained=True, optimizer=auto, verbose=True, seed=0, deterministic=True, single_cls=False, rect=False, cos_lr=False, close_mosaic=10, resume=False, amp=True, fraction=1.0, profile=False, freeze=None, multi_scale=False, overlap_mask=True, mask_ratio=4, dropout=0.0, val=True, split=val, save_json=False, save_hybrid=False, conf=None, iou=0.7, max_det=300, half=False, dnn=False, plots=True, source=None, vid_stride=1, stream_buffer=False, visualize=False, augment=False, agnostic_nms=False, classes=None, retina_masks=False, embed=None, show=False, save_frames=False, save_txt=False, save_conf=False, save_crop=False, show_labels=True, show_conf=True, show_boxes=True, line_width=None, format=torchscript, keras=False, optimize=False, int8=False, dynamic=False, simplify=False, opset=None, workspace=4, nms=False, lr0=0.01, lrf=0.01, momentum=0.937, weight_decay=0.0005, warmup_epochs=3.0, warmup_momentum=0.8, warmup_bias_lr=0.1, box=7.5, cls=0.5, dfl=1.5, pose=12.0, kobj=1.0, label_smoothing=0.0, nbs=64, hsv_h=0.015, hsv_s=0.7, hsv_v=0.4, degrees=0.0, translate=0.1, scale=0.5, shear=0.0, perspective=0.0, flipud=0.0, fliplr=0.5, bgr=0.0, mosaic=1.0, mixup=0.0, copy_paste=0.0, auto_augment=randaugment, erasing=0.4, crop_fraction=1.0, cfg=None, tracker=botsort.yaml, save_dir=runs\\segment\\train\n",
      "Overriding model.yaml nc=80 with nc=11\n",
      "\n",
      "                   from  n    params  module                                       arguments                     \n",
      "  0                  -1  1      1392  ultralytics.nn.modules.conv.Conv             [3, 48, 3, 2]                 \n",
      "  1                  -1  1     41664  ultralytics.nn.modules.conv.Conv             [48, 96, 3, 2]                \n",
      "  2                  -1  2    111360  ultralytics.nn.modules.block.C2f             [96, 96, 2, True]             \n",
      "  3                  -1  1    166272  ultralytics.nn.modules.conv.Conv             [96, 192, 3, 2]               \n",
      "  4                  -1  4    813312  ultralytics.nn.modules.block.C2f             [192, 192, 4, True]           \n",
      "  5                  -1  1    664320  ultralytics.nn.modules.conv.Conv             [192, 384, 3, 2]              \n",
      "  6                  -1  4   3248640  ultralytics.nn.modules.block.C2f             [384, 384, 4, True]           \n",
      "  7                  -1  1   1991808  ultralytics.nn.modules.conv.Conv             [384, 576, 3, 2]              \n",
      "  8                  -1  2   3985920  ultralytics.nn.modules.block.C2f             [576, 576, 2, True]           \n",
      "  9                  -1  1    831168  ultralytics.nn.modules.block.SPPF            [576, 576, 5]                 \n",
      " 10                  -1  1         0  torch.nn.modules.upsampling.Upsample         [None, 2, 'nearest']          \n",
      " 11             [-1, 6]  1         0  ultralytics.nn.modules.conv.Concat           [1]                           \n",
      " 12                  -1  2   1993728  ultralytics.nn.modules.block.C2f             [960, 384, 2]                 \n",
      " 13                  -1  1         0  torch.nn.modules.upsampling.Upsample         [None, 2, 'nearest']          \n",
      " 14             [-1, 4]  1         0  ultralytics.nn.modules.conv.Concat           [1]                           \n",
      " 15                  -1  2    517632  ultralytics.nn.modules.block.C2f             [576, 192, 2]                 \n",
      " 16                  -1  1    332160  ultralytics.nn.modules.conv.Conv             [192, 192, 3, 2]              \n",
      " 17            [-1, 12]  1         0  ultralytics.nn.modules.conv.Concat           [1]                           \n",
      " 18                  -1  2   1846272  ultralytics.nn.modules.block.C2f             [576, 384, 2]                 \n",
      " 19                  -1  1   1327872  ultralytics.nn.modules.conv.Conv             [384, 384, 3, 2]              \n",
      " 20             [-1, 9]  1         0  ultralytics.nn.modules.conv.Concat           [1]                           \n",
      " 21                  -1  2   4207104  ultralytics.nn.modules.block.C2f             [960, 576, 2]                 \n",
      " 22        [15, 18, 21]  1   5165393  ultralytics.nn.modules.head.Segment          [11, 32, 192, [192, 384, 576]]\n",
      "YOLOv8m-seg summary: 331 layers, 27246017 parameters, 27246001 gradients, 110.4 GFLOPs\n",
      "\n",
      "Transferred 531/537 items from pretrained weights\n",
      "\u001b[34m\u001b[1mTensorBoard: \u001b[0mStart with 'tensorboard --logdir runs\\segment\\train', view at http://localhost:6006/\n",
      "Freezing layer 'model.22.dfl.conv.weight'\n",
      "\u001b[34m\u001b[1mAMP: \u001b[0mrunning Automatic Mixed Precision (AMP) checks with YOLOv8n...\n",
      "\u001b[34m\u001b[1mAMP: \u001b[0mchecks passed \n"
     ]
    },
    {
     "name": "stderr",
     "output_type": "stream",
     "text": [
      "\u001b[34m\u001b[1mtrain: \u001b[0mScanning G:\\silexcore\\aeroflot\\DS\\dataset-seg\\train\\labels... 39 images, 0 backgrounds, 0 corrupt: 100%|██████████| 39/39 [00:00<00:00, 962.51it/s]"
     ]
    },
    {
     "name": "stdout",
     "output_type": "stream",
     "text": [
      "\u001b[34m\u001b[1mtrain: \u001b[0mNew cache created: G:\\silexcore\\aeroflot\\DS\\dataset-seg\\train\\labels.cache\n"
     ]
    },
    {
     "name": "stderr",
     "output_type": "stream",
     "text": [
      "\n"
     ]
    },
    {
     "name": "stdout",
     "output_type": "stream",
     "text": [
      "\u001b[34m\u001b[1malbumentations: \u001b[0mBlur(p=0.01, blur_limit=(3, 7)), MedianBlur(p=0.01, blur_limit=(3, 7)), ToGray(p=0.01), CLAHE(p=0.01, clip_limit=(1, 4.0), tile_grid_size=(8, 8))\n"
     ]
    },
    {
     "name": "stderr",
     "output_type": "stream",
     "text": [
      "\u001b[34m\u001b[1mval: \u001b[0mScanning G:\\silexcore\\aeroflot\\DS\\dataset-seg\\valid\\labels... 12 images, 0 backgrounds, 0 corrupt: 100%|██████████| 12/12 [00:00<00:00, 799.94it/s]"
     ]
    },
    {
     "name": "stdout",
     "output_type": "stream",
     "text": [
      "\u001b[34m\u001b[1mval: \u001b[0mNew cache created: G:\\silexcore\\aeroflot\\DS\\dataset-seg\\valid\\labels.cache\n"
     ]
    },
    {
     "name": "stderr",
     "output_type": "stream",
     "text": [
      "\n"
     ]
    },
    {
     "name": "stdout",
     "output_type": "stream",
     "text": [
      "Plotting labels to runs\\segment\\train\\labels.jpg... \n",
      "\u001b[34m\u001b[1moptimizer:\u001b[0m 'optimizer=auto' found, ignoring 'lr0=0.01' and 'momentum=0.937' and determining best 'optimizer', 'lr0' and 'momentum' automatically... \n",
      "\u001b[34m\u001b[1moptimizer:\u001b[0m AdamW(lr=0.000667, momentum=0.9) with parameter groups 86 weight(decay=0.0), 97 weight(decay=0.0005), 96 bias(decay=0.0)\n",
      "\u001b[34m\u001b[1mTensorBoard: \u001b[0mmodel graph visualization added \n",
      "Image sizes 640 train, 640 val\n",
      "Using 8 dataloader workers\n",
      "Logging results to \u001b[1mruns\\segment\\train\u001b[0m\n",
      "Starting training for 10 epochs...\n",
      "Closing dataloader mosaic\n",
      "\u001b[34m\u001b[1malbumentations: \u001b[0mBlur(p=0.01, blur_limit=(3, 7)), MedianBlur(p=0.01, blur_limit=(3, 7)), ToGray(p=0.01), CLAHE(p=0.01, clip_limit=(1, 4.0), tile_grid_size=(8, 8))\n",
      "\n",
      "      Epoch    GPU_mem   box_loss   seg_loss   cls_loss   dfl_loss  Instances       Size\n"
     ]
    },
    {
     "name": "stderr",
     "output_type": "stream",
     "text": [
      "  0%|          | 0/3 [00:00<?, ?it/s]"
     ]
    },
    {
     "ename": "",
     "evalue": "",
     "output_type": "error",
     "traceback": [
      "\u001b[1;31mThe Kernel crashed while executing code in the current cell or a previous cell. \n",
      "\u001b[1;31mPlease review the code in the cell(s) to identify a possible cause of the failure. \n",
      "\u001b[1;31mClick <a href='https://aka.ms/vscodeJupyterKernelCrash'>here</a> for more info. \n",
      "\u001b[1;31mView Jupyter <a href='command:jupyter.viewOutput'>log</a> for further details."
     ]
    }
   ],
   "source": [
    "x = ['m']\n",
    "\n",
    "for i in x:\n",
    "    pred = f'yolov8{i}-seg.pt'\n",
    "    model = YOLO(pred) \n",
    "    results = model.train(\n",
    "        data='G:/silexcore/aeroflot/DS/dataset-seg/data.yaml',\n",
    "        epochs=10,\n",
    "        batch=16,\n",
    "        optimizer='auto',\n",
    "        imgsz=640\n",
    "    )"
   ]
  },
  {
   "cell_type": "code",
   "execution_count": null,
   "id": "ed43d5c2",
   "metadata": {},
   "outputs": [],
   "source": [
    "!yolo task=detect mode=predict model=G:/silexcore/aeroflot/DS/runs/detect/train2/weights/best.pt conf=0.7 iou=0.6 show_boxes=True source='G:/silexcore/aeroflot/DS/dataset/test/images'"
   ]
  },
  {
   "cell_type": "code",
   "execution_count": 4,
   "id": "34d793de",
   "metadata": {},
   "outputs": [
    {
     "name": "stdout",
     "output_type": "stream",
     "text": [
      "������ ������� ��࠭��: 1251\n",
      "WARNING 'boxes' is deprecated and will be removed in the future. Use 'show_boxes' instead.\n",
      "Ultralytics 8.3.203  Python-3.11.8 torch-2.2.2+cu121 CUDA:0 (NVIDIA GeForce RTX 4070, 12282MiB)\n",
      "YOLOv8m-seg summary (fused): 105 layers, 27,228,753 parameters, 0 gradients, 104.3 GFLOPs\n",
      "\n",
      "image 1/50 g:\\silexcore\\aeroflot\\DS\\onlygroupv4\\test\\images\\DSCN5096_JPG.rf.8eb5b5ea9ae9b6d963d155018be2a5a1.jpg: 640x640 2 bokorezis, 1 kolovorot, 2 open-oils, 3 otvertka-pluss, 1 otvertka-smesh, 1 pass-contr, 1 razv-key, 1 rozh-key, 1 sherniza, 9.8ms\n",
      "image 2/50 g:\\silexcore\\aeroflot\\DS\\onlygroupv4\\test\\images\\DSCN5102_JPG.rf.8d01d4304fbe184e030bd902c3b48a0c.jpg: 640x640 1 bokorezi, 1 kolovorot, 1 otvertka-plus, 1 pass-contr, 1 razv-key, 4 rozh-keys, 2 shernizas, 10.2ms\n",
      "image 3/50 g:\\silexcore\\aeroflot\\DS\\onlygroupv4\\test\\images\\DSCN5108_JPG.rf.7a5802bd5c4379bbf8332abdd7c4f3c4.jpg: 640x640 2 bokorezis, 1 kolovorot, 1 open-oil, 2 otvertka-pluss, 1 pass-contr, 1 passatizhi, 2 razv-keys, 1 rozh-key, 1 sherniza, 10.4ms\n",
      "image 4/50 g:\\silexcore\\aeroflot\\DS\\onlygroupv4\\test\\images\\DSCN5141_JPG.rf.62565ef269130d065ffceed45d23903c.jpg: 640x640 1 bokorezi, 1 kolovorot, 1 open-oil, 2 otvertka-pluss, 1 otvertka-smesh, 1 pass-contr, 1 passatizhi, 1 razv-key, 1 rozh-key, 1 sherniza, 10.2ms\n",
      "image 5/50 g:\\silexcore\\aeroflot\\DS\\onlygroupv4\\test\\images\\DSCN5142_JPG.rf.a9aa0c1d2f033a3cb844b4c1d8419117.jpg: 640x640 1 bokorezi, 1 kolovorot, 1 open-oil, 2 otvertka-pluss, 1 otvertka-smesh, 1 pass-contr, 1 passatizhi, 1 rozh-key, 1 sherniza, 9.4ms\n",
      "image 6/50 g:\\silexcore\\aeroflot\\DS\\onlygroupv4\\test\\images\\DSCN5150_JPG.rf.42c32b909abbe8a1908d825a0ed8c4a4.jpg: 640x640 1 bokorezi, 1 kolovorot, 1 open-oil, 1 pass-contr, 1 passatizhi, 1 razv-key, 1 rozh-key, 1 sherniza, 9.6ms\n",
      "image 7/50 g:\\silexcore\\aeroflot\\DS\\onlygroupv4\\test\\images\\DSCN5177_JPG.rf.8f046021d8506bb6f6f80ca786b1a382.jpg: 640x640 1 kolovorot, 1 open-oil, 2 otvertka-pluss, 1 pass-contr, 2 passatizhis, 1 razv-key, 1 rozh-key, 1 sherniza, 10.1ms\n",
      "image 8/50 g:\\silexcore\\aeroflot\\DS\\onlygroupv4\\test\\images\\DSCN5179_JPG.rf.179057c9f5bd77d642acf7af0056b4bd.jpg: 640x640 1 kolovorot, 1 open-oil, 1 otvertka-minus, 1 otvertka-plus, 1 pass-contr, 1 passatizhi, 1 rozh-key, 1 sherniza, 10.5ms\n",
      "image 9/50 g:\\silexcore\\aeroflot\\DS\\onlygroupv4\\test\\images\\DSCN5186_JPG.rf.f950409a772f3b7246de05c36a955f80.jpg: 640x640 1 bokorezi, 1 kolovorot, 1 open-oil, 1 otvertka-minus, 1 otvertka-plus, 1 otvertka-smesh, 1 pass-contr, 1 passatizhi, 1 razv-key, 2 rozh-keys, 1 sherniza, 9.9ms\n",
      "image 10/50 g:\\silexcore\\aeroflot\\DS\\onlygroupv4\\test\\images\\DSCN5217_JPG.rf.3b762c5ebca0a4812db330ff41e1c808.jpg: 640x640 1 bokorezi, 1 kolovorot, 1 open-oil, 1 otvertka-minus, 2 otvertka-pluss, 1 pass-contr, 1 passatizhi, 1 razv-key, 1 rozh-key, 1 sherniza, 9.8ms\n",
      "image 11/50 g:\\silexcore\\aeroflot\\DS\\onlygroupv4\\test\\images\\DSCN5218_JPG.rf.e382dce9c248a61d52cc325da9a9e1b1.jpg: 640x640 1 bokorezi, 1 kolovorot, 1 open-oil, 1 otvertka-minus, 1 otvertka-plus, 1 pass-contr, 1 passatizhi, 1 razv-key, 1 rozh-key, 1 sherniza, 10.0ms\n",
      "image 12/50 g:\\silexcore\\aeroflot\\DS\\onlygroupv4\\test\\images\\DSCN5237_JPG.rf.f0ea9bbda4ff07b8ee46cc40789d5128.jpg: 640x640 2 bokorezis, 1 kolovorot, 1 open-oil, 1 otvertka-smesh, 2 pass-contrs, 1 razv-key, 1 rozh-key, 9.2ms\n",
      "image 13/50 g:\\silexcore\\aeroflot\\DS\\onlygroupv4\\test\\images\\DSCN5241_JPG.rf.9524782f3b303641e1e1c6fb3a0fea44.jpg: 640x640 1 kolovorot, 1 open-oil, 1 otvertka-smesh, 2 pass-contrs, 1 passatizhi, 1 razv-key, 1 rozh-key, 10.2ms\n",
      "image 14/50 g:\\silexcore\\aeroflot\\DS\\onlygroupv4\\test\\images\\DSCN5245_JPG.rf.a599dee1aeed1d4385b2385c49c4bc21.jpg: 640x640 2 bokorezis, 1 kolovorot, 1 open-oil, 1 otvertka-smesh, 1 pass-contr, 1 rozh-key, 1 sherniza, 10.4ms\n",
      "image 15/50 g:\\silexcore\\aeroflot\\DS\\onlygroupv4\\test\\images\\DSCN5250_JPG.rf.6fc24f6691f87ebb0ef0cc7f12bfe10f.jpg: 640x640 1 bokorezi, 1 kolovorot, 1 open-oil, 1 otvertka-smesh, 2 pass-contrs, 1 passatizhi, 1 razv-key, 1 rozh-key, 1 sherniza, 10.4ms\n",
      "image 16/50 g:\\silexcore\\aeroflot\\DS\\onlygroupv4\\test\\images\\DSCN5269_JPG.rf.1b7ba71d5d272d3bb5dd984f4016feea.jpg: 640x640 1 bokorezi, 1 kolovorot, 1 open-oil, 1 otvertka-plus, 2 otvertka-smeshs, 1 pass-contr, 2 passatizhis, 1 razv-key, 1 rozh-key, 1 sherniza, 10.3ms\n",
      "image 17/50 g:\\silexcore\\aeroflot\\DS\\onlygroupv4\\test\\images\\DSCN5282_JPG.rf.2e592d559fd27580235f79b9eeb67fd1.jpg: 640x640 1 bokorezi, 1 kolovorot, 1 open-oil, 1 otvertka-minus, 1 pass-contr, 1 passatizhi, 1 razv-key, 1 rozh-key, 1 sherniza, 9.5ms\n",
      "image 18/50 g:\\silexcore\\aeroflot\\DS\\onlygroupv4\\test\\images\\DSCN5284_JPG.rf.d98ec69ecc4207d209e056d170633c97.jpg: 640x640 1 bokorezi, 1 kolovorot, 1 open-oil, 1 otvertka-minus, 2 otvertka-pluss, 1 pass-contr, 1 passatizhi, 1 razv-key, 1 rozh-key, 1 sherniza, 9.9ms\n",
      "image 19/50 g:\\silexcore\\aeroflot\\DS\\onlygroupv4\\test\\images\\DSCN5286_JPG.rf.9b90f9f9081983c10dc98389f2fe0bf4.jpg: 640x640 1 bokorezi, 1 kolovorot, 1 open-oil, 1 otvertka-minus, 1 otvertka-plus, 1 pass-contr, 1 passatizhi, 1 razv-key, 1 rozh-key, 1 sherniza, 9.4ms\n",
      "image 20/50 g:\\silexcore\\aeroflot\\DS\\onlygroupv4\\test\\images\\DSCN5290_JPG.rf.e1e34755cc600225c01454c8682a6744.jpg: 640x640 1 bokorezi, 1 kolovorot, 1 open-oil, 1 otvertka-minus, 1 otvertka-plus, 1 otvertka-smesh, 1 pass-contr, 1 passatizhi, 1 razv-key, 1 rozh-key, 1 sherniza, 9.4ms\n",
      "image 21/50 g:\\silexcore\\aeroflot\\DS\\onlygroupv4\\test\\images\\DSCN5298_JPG.rf.d829eb60636e3fe2bf9e3d8e42bc4b76.jpg: 640x640 1 bokorezi, 1 kolovorot, 1 open-oil, 2 otvertka-pluss, 1 otvertka-smesh, 1 pass-contr, 1 passatizhi, 1 razv-key, 1 rozh-key, 10.3ms\n",
      "image 22/50 g:\\silexcore\\aeroflot\\DS\\onlygroupv4\\test\\images\\DSCN5306_JPG.rf.b8908f73aa122c76b8990f00d66ebdf9.jpg: 640x640 1 bokorezi, 1 kolovorot, 1 open-oil, 1 otvertka-minus, 1 otvertka-plus, 1 otvertka-smesh, 1 pass-contr, 2 passatizhis, 2 rozh-keys, 1 sherniza, 10.6ms\n",
      "image 23/50 g:\\silexcore\\aeroflot\\DS\\onlygroupv4\\test\\images\\DSCN5307_JPG.rf.c7f924b29411c938d413e24879bfe300.jpg: 640x640 2 bokorezis, 1 kolovorot, 1 open-oil, 1 otvertka-minus, 1 otvertka-smesh, 1 pass-contr, 2 passatizhis, 1 sherniza, 9.8ms\n",
      "image 24/50 g:\\silexcore\\aeroflot\\DS\\onlygroupv4\\test\\images\\DSCN5317_JPG.rf.7fb436543cd8fcf6238c904e1fa4913a.jpg: 640x640 1 bokorezi, 1 kolovorot, 1 open-oil, 1 otvertka-minus, 1 otvertka-plus, 1 pass-contr, 1 passatizhi, 1 razv-key, 1 rozh-key, 1 sherniza, 9.9ms\n",
      "image 25/50 g:\\silexcore\\aeroflot\\DS\\onlygroupv4\\test\\images\\DSCN5322_JPG.rf.ab14734b8d763e019ce66d99bed9e077.jpg: 640x640 1 bokorezi, 1 kolovorot, 1 open-oil, 1 otvertka-minus, 1 otvertka-plus, 1 otvertka-smesh, 1 passatizhi, 1 razv-key, 1 rozh-key, 1 sherniza, 10.6ms\n",
      "image 26/50 g:\\silexcore\\aeroflot\\DS\\onlygroupv4\\test\\images\\DSCN5325_JPG.rf.a722d4134322c025df88a116543278d0.jpg: 640x640 1 bokorezi, 1 kolovorot, 1 open-oil, 1 otvertka-minus, 1 otvertka-plus, 1 otvertka-smesh, 1 pass-contr, 1 passatizhi, 1 razv-key, 1 rozh-key, 1 sherniza, 9.7ms\n",
      "image 27/50 g:\\silexcore\\aeroflot\\DS\\onlygroupv4\\test\\images\\DSCN5338_JPG.rf.f7313516222d10021d4e25a6b9a32ecb.jpg: 640x640 1 bokorezi, 1 kolovorot, 1 open-oil, 1 otvertka-minus, 2 otvertka-smeshs, 1 pass-contr, 1 passatizhi, 1 razv-key, 1 rozh-key, 1 sherniza, 9.5ms\n",
      "image 28/50 g:\\silexcore\\aeroflot\\DS\\onlygroupv4\\test\\images\\DSCN5344_JPG.rf.fabe1358e3d0d087222be4702e23a7d8.jpg: 640x640 1 bokorezi, 1 kolovorot, 1 open-oil, 1 otvertka-minus, 1 otvertka-plus, 2 otvertka-smeshs, 1 pass-contr, 1 passatizhi, 1 razv-key, 1 rozh-key, 1 sherniza, 10.2ms\n",
      "image 29/50 g:\\silexcore\\aeroflot\\DS\\onlygroupv4\\test\\images\\DSCN5350_JPG.rf.76881c05909116a12e86c129fa588e46.jpg: 640x640 1 bokorezi, 1 kolovorot, 1 open-oil, 1 otvertka-minus, 2 otvertka-pluss, 2 pass-contrs, 1 passatizhi, 1 rozh-key, 1 sherniza, 9.4ms\n",
      "image 30/50 g:\\silexcore\\aeroflot\\DS\\onlygroupv4\\test\\images\\DSCN5352_JPG.rf.cb2bb0c0b2f564704b54b1b1c408203f.jpg: 640x640 1 bokorezi, 1 kolovorot, 2 open-oils, 1 otvertka-minus, 1 otvertka-plus, 1 pass-contr, 1 passatizhi, 1 rozh-key, 1 sherniza, 9.9ms\n",
      "image 31/50 g:\\silexcore\\aeroflot\\DS\\onlygroupv4\\test\\images\\DSCN5355_JPG.rf.94b68dc9bb2c7702bc8f98361ca4ae05.jpg: 640x640 1 bokorezi, 1 kolovorot, 1 open-oil, 1 otvertka-minus, 1 otvertka-plus, 1 otvertka-smesh, 1 pass-contr, 1 razv-key, 1 rozh-key, 1 sherniza, 9.2ms\n",
      "image 32/50 g:\\silexcore\\aeroflot\\DS\\onlygroupv4\\test\\images\\DSCN5462_JPG.rf.48ac2fcde3c07eec3919191aea4e3d2b.jpg: 640x640 1 bokorezi, 1 kolovorot, 1 open-oil, 1 otvertka-minus, 2 otvertka-pluss, 1 pass-contr, 1 passatizhi, 1 razv-key, 1 rozh-key, 1 sherniza, 9.2ms\n",
      "image 33/50 g:\\silexcore\\aeroflot\\DS\\onlygroupv4\\test\\images\\DSCN5464_JPG.rf.4f361c8b40f641cc101208fc92b0dac7.jpg: 640x640 1 bokorezi, 1 kolovorot, 1 open-oil, 1 otvertka-minus, 1 otvertka-plus, 1 otvertka-smesh, 1 pass-contr, 1 passatizhi, 1 razv-key, 1 rozh-key, 1 sherniza, 10.2ms\n",
      "image 34/50 g:\\silexcore\\aeroflot\\DS\\onlygroupv4\\test\\images\\DSCN5474_JPG.rf.ba1cc604180add026617ac1f1f75fb6c.jpg: 640x640 1 bokorezi, 1 kolovorot, 1 open-oil, 1 otvertka-minus, 1 otvertka-plus, 1 otvertka-smesh, 1 pass-contr, 1 passatizhi, 1 razv-key, 1 rozh-key, 1 sherniza, 9.4ms\n",
      "image 35/50 g:\\silexcore\\aeroflot\\DS\\onlygroupv4\\test\\images\\DSCN5478_JPG.rf.17f411b871de4fed7084de59cd18910b.jpg: 640x640 1 kolovorot, 1 open-oil, 1 otvertka-minus, 1 otvertka-smesh, 1 pass-contr, 1 passatizhi, 1 razv-key, 1 rozh-key, 9.9ms\n",
      "image 36/50 g:\\silexcore\\aeroflot\\DS\\onlygroupv4\\test\\images\\DSCN5479_JPG.rf.d19039212dae77b205560f27cc23c1f7.jpg: 640x640 1 kolovorot, 1 open-oil, 1 otvertka-minus, 1 otvertka-smesh, 1 pass-contr, 1 passatizhi, 1 razv-key, 1 rozh-key, 10.1ms\n",
      "image 37/50 g:\\silexcore\\aeroflot\\DS\\onlygroupv4\\test\\images\\DSCN5483_JPG.rf.0830baa1da75a8b3f07752bbb4d6f29f.jpg: 640x640 1 bokorezi, 1 kolovorot, 1 open-oil, 1 otvertka-minus, 1 otvertka-plus, 1 otvertka-smesh, 1 pass-contr, 1 passatizhi, 1 razv-key, 1 rozh-key, 1 sherniza, 10.3ms\n",
      "image 38/50 g:\\silexcore\\aeroflot\\DS\\onlygroupv4\\test\\images\\DSCN5488_JPG.rf.76688252e108561af4ee3dc6b589810b.jpg: 640x640 1 bokorezi, 1 kolovorot, 1 open-oil, 1 otvertka-plus, 1 otvertka-smesh, 1 pass-contr, 1 passatizhi, 1 razv-key, 1 rozh-key, 1 sherniza, 10.0ms\n",
      "image 39/50 g:\\silexcore\\aeroflot\\DS\\onlygroupv4\\test\\images\\DSCN5489_JPG.rf.212580fa14f5eeb4ce8b23698980187f.jpg: 640x640 1 bokorezi, 1 kolovorot, 1 open-oil, 1 otvertka-minus, 2 otvertka-pluss, 1 pass-contr, 1 passatizhi, 1 razv-key, 1 rozh-key, 1 sherniza, 9.9ms\n",
      "image 40/50 g:\\silexcore\\aeroflot\\DS\\onlygroupv4\\test\\images\\DSCN5495_JPG.rf.fd45eca5c1c0166232156fc5500de947.jpg: 640x640 2 bokorezis, 1 kolovorot, 1 open-oil, 1 otvertka-minus, 2 otvertka-pluss, 2 pass-contrs, 1 passatizhi, 1 razv-key, 1 rozh-key, 1 sherniza, 10.5ms\n",
      "image 41/50 g:\\silexcore\\aeroflot\\DS\\onlygroupv4\\test\\images\\DSCN5573_JPG.rf.6c2d40579b7e8dfcec56811f199bcdd4.jpg: 640x640 1 bokorezi, 1 open-oil, 1 otvertka-minus, 1 pass-contr, 1 passatizhi, 1 razv-key, 1 rozh-key, 1 sherniza, 10.1ms\n",
      "image 42/50 g:\\silexcore\\aeroflot\\DS\\onlygroupv4\\test\\images\\DSCN5587_JPG.rf.1529b3b03b5885e5c4f6bc4b5b438900.jpg: 640x640 1 bokorezi, 1 kolovorot, 2 otvertka-smeshs, 1 passatizhi, 1 razv-key, 1 rozh-key, 1 sherniza, 9.4ms\n",
      "image 43/50 g:\\silexcore\\aeroflot\\DS\\onlygroupv4\\test\\images\\DSCN5599_JPG.rf.d9a8e3416577103b01a4b18ce3bdd6ab.jpg: 640x640 1 bokorezi, 1 kolovorot, 1 open-oil, 1 otvertka-minus, 1 otvertka-smesh, 1 pass-contr, 2 passatizhis, 1 rozh-key, 1 sherniza, 10.4ms\n",
      "image 44/50 g:\\silexcore\\aeroflot\\DS\\onlygroupv4\\test\\images\\DSCN5601_JPG.rf.d17ea15a38c7fb4d7579748d1f35f92f.jpg: 640x640 1 bokorezi, 1 kolovorot, 1 open-oil, 1 otvertka-minus, 1 otvertka-plus, 1 otvertka-smesh, 1 pass-contr, 1 passatizhi, 1 razv-key, 1 rozh-key, 1 sherniza, 10.6ms\n",
      "image 45/50 g:\\silexcore\\aeroflot\\DS\\onlygroupv4\\test\\images\\DSCN5603_JPG.rf.a51685e4de23a122fec3d1fafbb11d41.jpg: 640x640 1 kolovorot, 1 otvertka-minus, 1 pass-contr, 1 razv-key, 2 rozh-keys, 1 sherniza, 9.9ms\n",
      "image 46/50 g:\\silexcore\\aeroflot\\DS\\onlygroupv4\\test\\images\\DSCN5604_JPG.rf.ca053bd72ff086860c1278ea5b204661.jpg: 640x640 1 bokorezi, 1 kolovorot, 1 open-oil, 1 otvertka-minus, 1 otvertka-smesh, 1 pass-contr, 1 passatizhi, 1 razv-key, 1 rozh-key, 1 sherniza, 9.2ms\n",
      "image 47/50 g:\\silexcore\\aeroflot\\DS\\onlygroupv4\\test\\images\\DSCN5605_JPG.rf.ed0b6b8b89d1f91e8067fc36201b4211.jpg: 640x640 1 bokorezi, 1 kolovorot, 2 otvertka-minuss, 1 otvertka-smesh, 1 pass-contr, 1 passatizhi, 1 razv-key, 1 rozh-key, 1 sherniza, 9.7ms\n",
      "image 48/50 g:\\silexcore\\aeroflot\\DS\\onlygroupv4\\test\\images\\DSCN5617_JPG.rf.9394ee5fd80d150a0cad8512506fa9bf.jpg: 640x640 1 bokorezi, 1 kolovorot, 1 open-oil, 2 otvertka-minuss, 1 otvertka-plus, 1 otvertka-smesh, 2 pass-contrs, 1 razv-key, 2 rozh-keys, 1 sherniza, 10.4ms\n",
      "image 49/50 g:\\silexcore\\aeroflot\\DS\\onlygroupv4\\test\\images\\DSCN5619_JPG.rf.a7abcd7ad507836eaa1629d12ffd2922.jpg: 640x640 1 bokorezi, 1 kolovorot, 1 open-oil, 1 otvertka-minus, 1 otvertka-plus, 1 otvertka-smesh, 1 pass-contr, 1 passatizhi, 1 razv-key, 1 rozh-key, 1 sherniza, 9.9ms\n",
      "image 50/50 g:\\silexcore\\aeroflot\\DS\\onlygroupv4\\test\\images\\DSCN5628_JPG.rf.326466613083a3ea73cbecbf7f091bb6.jpg: 640x640 1 bokorezi, 1 kolovorot, 1 open-oil, 1 otvertka-minus, 1 otvertka-plus, 1 otvertka-smesh, 1 pass-contr, 1 passatizhi, 1 razv-key, 1 rozh-key, 1 sherniza, 10.3ms\n",
      "Speed: 2.2ms preprocess, 9.9ms inference, 10.4ms postprocess per image at shape (1, 3, 640, 640)\n",
      "Results saved to \u001b[1mG:\\silexcore\\aeroflot\\DS\\runs\\segment\\predict2\u001b[0m\n",
      " Learn more at https://docs.ultralytics.com/modes/predict\n"
     ]
    }
   ],
   "source": [
    "!yolo task=segment mode=predict model=G:/silexcore/aeroflot/backend/models/best-seg.pt conf=0.4 iou=0.5 boxes=True source='onlygroupv4/test/images'"
   ]
  }
 ],
 "metadata": {
  "kernelspec": {
   "display_name": "Python 3",
   "language": "python",
   "name": "python3"
  },
  "language_info": {
   "codemirror_mode": {
    "name": "ipython",
    "version": 3
   },
   "file_extension": ".py",
   "mimetype": "text/x-python",
   "name": "python",
   "nbconvert_exporter": "python",
   "pygments_lexer": "ipython3",
   "version": "3.11.8"
  }
 },
 "nbformat": 4,
 "nbformat_minor": 5
}
